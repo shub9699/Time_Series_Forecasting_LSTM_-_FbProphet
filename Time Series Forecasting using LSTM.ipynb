{
 "cells": [
  {
   "cell_type": "code",
   "execution_count": 1,
   "metadata": {},
   "outputs": [
    {
     "name": "stderr",
     "output_type": "stream",
     "text": [
      "C:\\Users\\Shubham\\Anaconda3\\lib\\site-packages\\tensorboard\\compat\\tensorflow_stub\\dtypes.py:541: FutureWarning: Passing (type, 1) or '1type' as a synonym of type is deprecated; in a future version of numpy, it will be understood as (type, (1,)) / '(1,)type'.\n",
      "  _np_qint8 = np.dtype([(\"qint8\", np.int8, 1)])\n",
      "C:\\Users\\Shubham\\Anaconda3\\lib\\site-packages\\tensorboard\\compat\\tensorflow_stub\\dtypes.py:542: FutureWarning: Passing (type, 1) or '1type' as a synonym of type is deprecated; in a future version of numpy, it will be understood as (type, (1,)) / '(1,)type'.\n",
      "  _np_quint8 = np.dtype([(\"quint8\", np.uint8, 1)])\n",
      "C:\\Users\\Shubham\\Anaconda3\\lib\\site-packages\\tensorboard\\compat\\tensorflow_stub\\dtypes.py:543: FutureWarning: Passing (type, 1) or '1type' as a synonym of type is deprecated; in a future version of numpy, it will be understood as (type, (1,)) / '(1,)type'.\n",
      "  _np_qint16 = np.dtype([(\"qint16\", np.int16, 1)])\n",
      "C:\\Users\\Shubham\\Anaconda3\\lib\\site-packages\\tensorboard\\compat\\tensorflow_stub\\dtypes.py:544: FutureWarning: Passing (type, 1) or '1type' as a synonym of type is deprecated; in a future version of numpy, it will be understood as (type, (1,)) / '(1,)type'.\n",
      "  _np_quint16 = np.dtype([(\"quint16\", np.uint16, 1)])\n",
      "C:\\Users\\Shubham\\Anaconda3\\lib\\site-packages\\tensorboard\\compat\\tensorflow_stub\\dtypes.py:545: FutureWarning: Passing (type, 1) or '1type' as a synonym of type is deprecated; in a future version of numpy, it will be understood as (type, (1,)) / '(1,)type'.\n",
      "  _np_qint32 = np.dtype([(\"qint32\", np.int32, 1)])\n",
      "C:\\Users\\Shubham\\Anaconda3\\lib\\site-packages\\tensorboard\\compat\\tensorflow_stub\\dtypes.py:550: FutureWarning: Passing (type, 1) or '1type' as a synonym of type is deprecated; in a future version of numpy, it will be understood as (type, (1,)) / '(1,)type'.\n",
      "  np_resource = np.dtype([(\"resource\", np.ubyte, 1)])\n"
     ]
    }
   ],
   "source": [
    "import numpy as np\n",
    "from keras.models import Sequential\n",
    "from keras.layers import LSTM\n",
    "from keras.layers import Dense, Dropout\n",
    "import pandas as pd\n",
    "from matplotlib import pyplot as plt\n",
    "from sklearn.preprocessing import StandardScaler\n",
    "import seaborn as sns\n",
    "import keras"
   ]
  },
  {
   "cell_type": "code",
   "execution_count": 2,
   "metadata": {},
   "outputs": [],
   "source": [
    "df = pd.read_csv('SBIN.NS.csv')"
   ]
  },
  {
   "cell_type": "code",
   "execution_count": 3,
   "metadata": {},
   "outputs": [
    {
     "data": {
      "text/html": [
       "<div>\n",
       "<style scoped>\n",
       "    .dataframe tbody tr th:only-of-type {\n",
       "        vertical-align: middle;\n",
       "    }\n",
       "\n",
       "    .dataframe tbody tr th {\n",
       "        vertical-align: top;\n",
       "    }\n",
       "\n",
       "    .dataframe thead th {\n",
       "        text-align: right;\n",
       "    }\n",
       "</style>\n",
       "<table border=\"1\" class=\"dataframe\">\n",
       "  <thead>\n",
       "    <tr style=\"text-align: right;\">\n",
       "      <th></th>\n",
       "      <th>Date</th>\n",
       "      <th>Open</th>\n",
       "      <th>High</th>\n",
       "      <th>Low</th>\n",
       "      <th>Close</th>\n",
       "      <th>Adj Close</th>\n",
       "      <th>Volume</th>\n",
       "    </tr>\n",
       "  </thead>\n",
       "  <tbody>\n",
       "    <tr>\n",
       "      <th>0</th>\n",
       "      <td>2018-05-23</td>\n",
       "      <td>254.649994</td>\n",
       "      <td>269.750000</td>\n",
       "      <td>254.300003</td>\n",
       "      <td>263.200012</td>\n",
       "      <td>263.200012</td>\n",
       "      <td>71202072.0</td>\n",
       "    </tr>\n",
       "    <tr>\n",
       "      <th>1</th>\n",
       "      <td>2018-05-24</td>\n",
       "      <td>263.850006</td>\n",
       "      <td>269.700012</td>\n",
       "      <td>260.649994</td>\n",
       "      <td>268.500000</td>\n",
       "      <td>268.500000</td>\n",
       "      <td>34679642.0</td>\n",
       "    </tr>\n",
       "    <tr>\n",
       "      <th>2</th>\n",
       "      <td>2018-05-25</td>\n",
       "      <td>267.799988</td>\n",
       "      <td>268.399994</td>\n",
       "      <td>262.549988</td>\n",
       "      <td>266.950012</td>\n",
       "      <td>266.950012</td>\n",
       "      <td>22317308.0</td>\n",
       "    </tr>\n",
       "    <tr>\n",
       "      <th>3</th>\n",
       "      <td>2018-05-28</td>\n",
       "      <td>267.399994</td>\n",
       "      <td>274.200012</td>\n",
       "      <td>266.049988</td>\n",
       "      <td>272.049988</td>\n",
       "      <td>272.049988</td>\n",
       "      <td>18959368.0</td>\n",
       "    </tr>\n",
       "    <tr>\n",
       "      <th>4</th>\n",
       "      <td>2018-05-29</td>\n",
       "      <td>270.500000</td>\n",
       "      <td>270.950012</td>\n",
       "      <td>262.799988</td>\n",
       "      <td>264.299988</td>\n",
       "      <td>264.299988</td>\n",
       "      <td>16107543.0</td>\n",
       "    </tr>\n",
       "  </tbody>\n",
       "</table>\n",
       "</div>"
      ],
      "text/plain": [
       "         Date        Open        High         Low       Close   Adj Close  \\\n",
       "0  2018-05-23  254.649994  269.750000  254.300003  263.200012  263.200012   \n",
       "1  2018-05-24  263.850006  269.700012  260.649994  268.500000  268.500000   \n",
       "2  2018-05-25  267.799988  268.399994  262.549988  266.950012  266.950012   \n",
       "3  2018-05-28  267.399994  274.200012  266.049988  272.049988  272.049988   \n",
       "4  2018-05-29  270.500000  270.950012  262.799988  264.299988  264.299988   \n",
       "\n",
       "       Volume  \n",
       "0  71202072.0  \n",
       "1  34679642.0  \n",
       "2  22317308.0  \n",
       "3  18959368.0  \n",
       "4  16107543.0  "
      ]
     },
     "execution_count": 3,
     "metadata": {},
     "output_type": "execute_result"
    }
   ],
   "source": [
    "df.head()"
   ]
  },
  {
   "cell_type": "markdown",
   "metadata": {},
   "source": [
    "### we need to need drop the NA values because if not the loss and val_loss in the fit method will give us Nan as output"
   ]
  },
  {
   "cell_type": "code",
   "execution_count": 4,
   "metadata": {},
   "outputs": [],
   "source": [
    "df = df.dropna()"
   ]
  },
  {
   "cell_type": "code",
   "execution_count": 5,
   "metadata": {},
   "outputs": [
    {
     "data": {
      "text/plain": [
       "Date         0\n",
       "Open         0\n",
       "High         0\n",
       "Low          0\n",
       "Close        0\n",
       "Adj Close    0\n",
       "Volume       0\n",
       "dtype: int64"
      ]
     },
     "execution_count": 5,
     "metadata": {},
     "output_type": "execute_result"
    }
   ],
   "source": [
    "df.isna().sum()"
   ]
  },
  {
   "cell_type": "code",
   "execution_count": 6,
   "metadata": {},
   "outputs": [],
   "source": [
    "#Separate dates for future plotting\n",
    "train_dates = pd.to_datetime(df['Date'])"
   ]
  },
  {
   "cell_type": "code",
   "execution_count": 7,
   "metadata": {},
   "outputs": [
    {
     "data": {
      "text/plain": [
       "['Open', 'High', 'Low', 'Close', 'Adj Close']"
      ]
     },
     "execution_count": 7,
     "metadata": {},
     "output_type": "execute_result"
    }
   ],
   "source": [
    "#Variables for training\n",
    "cols = list(df)[1:6]\n",
    "cols"
   ]
  },
  {
   "cell_type": "code",
   "execution_count": 8,
   "metadata": {},
   "outputs": [
    {
     "data": {
      "text/html": [
       "<div>\n",
       "<style scoped>\n",
       "    .dataframe tbody tr th:only-of-type {\n",
       "        vertical-align: middle;\n",
       "    }\n",
       "\n",
       "    .dataframe tbody tr th {\n",
       "        vertical-align: top;\n",
       "    }\n",
       "\n",
       "    .dataframe thead th {\n",
       "        text-align: right;\n",
       "    }\n",
       "</style>\n",
       "<table border=\"1\" class=\"dataframe\">\n",
       "  <thead>\n",
       "    <tr style=\"text-align: right;\">\n",
       "      <th></th>\n",
       "      <th>Open</th>\n",
       "      <th>High</th>\n",
       "      <th>Low</th>\n",
       "      <th>Close</th>\n",
       "      <th>Adj Close</th>\n",
       "    </tr>\n",
       "  </thead>\n",
       "  <tbody>\n",
       "    <tr>\n",
       "      <th>0</th>\n",
       "      <td>254.649994</td>\n",
       "      <td>269.750000</td>\n",
       "      <td>254.300003</td>\n",
       "      <td>263.200012</td>\n",
       "      <td>263.200012</td>\n",
       "    </tr>\n",
       "    <tr>\n",
       "      <th>1</th>\n",
       "      <td>263.850006</td>\n",
       "      <td>269.700012</td>\n",
       "      <td>260.649994</td>\n",
       "      <td>268.500000</td>\n",
       "      <td>268.500000</td>\n",
       "    </tr>\n",
       "    <tr>\n",
       "      <th>2</th>\n",
       "      <td>267.799988</td>\n",
       "      <td>268.399994</td>\n",
       "      <td>262.549988</td>\n",
       "      <td>266.950012</td>\n",
       "      <td>266.950012</td>\n",
       "    </tr>\n",
       "    <tr>\n",
       "      <th>3</th>\n",
       "      <td>267.399994</td>\n",
       "      <td>274.200012</td>\n",
       "      <td>266.049988</td>\n",
       "      <td>272.049988</td>\n",
       "      <td>272.049988</td>\n",
       "    </tr>\n",
       "    <tr>\n",
       "      <th>4</th>\n",
       "      <td>270.500000</td>\n",
       "      <td>270.950012</td>\n",
       "      <td>262.799988</td>\n",
       "      <td>264.299988</td>\n",
       "      <td>264.299988</td>\n",
       "    </tr>\n",
       "  </tbody>\n",
       "</table>\n",
       "</div>"
      ],
      "text/plain": [
       "         Open        High         Low       Close   Adj Close\n",
       "0  254.649994  269.750000  254.300003  263.200012  263.200012\n",
       "1  263.850006  269.700012  260.649994  268.500000  268.500000\n",
       "2  267.799988  268.399994  262.549988  266.950012  266.950012\n",
       "3  267.399994  274.200012  266.049988  272.049988  272.049988\n",
       "4  270.500000  270.950012  262.799988  264.299988  264.299988"
      ]
     },
     "execution_count": 8,
     "metadata": {},
     "output_type": "execute_result"
    }
   ],
   "source": [
    "df_for_training = df[cols].astype(float)\n",
    "df_for_training.head()"
   ]
  },
  {
   "cell_type": "code",
   "execution_count": 9,
   "metadata": {},
   "outputs": [
    {
     "data": {
      "text/plain": [
       "<matplotlib.axes._subplots.AxesSubplot at 0x25d6c25b508>"
      ]
     },
     "execution_count": 9,
     "metadata": {},
     "output_type": "execute_result"
    },
    {
     "data": {
      "image/png": "[encoded data removed]",
      "text/plain": [
       "<Figure size 432x288 with 1 Axes>"
      ]
     },
     "metadata": {
      "needs_background": "light"
     },
     "output_type": "display_data"
    }
   ],
   "source": [
    "df_for_plot=df_for_training.tail(5000)\n",
    "df_for_plot.plot.line()"
   ]
  },
  {
   "cell_type": "code",
   "execution_count": 10,
   "metadata": {},
   "outputs": [],
   "source": [
    "#LSTM uses sigmoid and tanh that are sensitive to magnitude so values need to be normalized\n",
    "# normalize the dataset\n",
    "scaler = StandardScaler()\n",
    "scaler = scaler.fit(df_for_training)\n",
    "df_for_training_scaled = scaler.transform(df_for_training)"
   ]
  },
  {
   "cell_type": "code",
   "execution_count": 11,
   "metadata": {},
   "outputs": [],
   "source": [
    "#As required for LSTM networks, we require to reshape an input data into n_samples x timesteps x n_features. \n",
    "#In this example, the n_features is 2. We will make timesteps = 3. \n",
    "#With this, the resultant n_samples is 5 (as the input data has 9 rows).\n",
    "trainX = []\n",
    "trainY = []"
   ]
  },
  {
   "cell_type": "code",
   "execution_count": 12,
   "metadata": {},
   "outputs": [],
   "source": [
    "n_future = 1   # Number of days we want to predict into the future\n",
    "n_past = 14     # Number of past days we want to use to predict the future"
   ]
  },
  {
   "cell_type": "code",
   "execution_count": 13,
   "metadata": {},
   "outputs": [],
   "source": [
    "for i in range(n_past, len(df_for_training_scaled) - n_future +1):\n",
    "    trainX.append(df_for_training_scaled[i - n_past:i, 0:df_for_training.shape[1]])\n",
    "    trainY.append(df_for_training_scaled[i + n_future - 1:i + n_future, 0])"
   ]
  },
  {
   "cell_type": "markdown",
   "metadata": {},
   "source": [
    "in the above code we will be taking the 14(0 to 13) rows as the independent values and 14th row as dependent value than shifting one index ahead ie. 1 to 14 as independent values and 15th values as a dependent value in trainX and trainY resp "
   ]
  },
  {
   "cell_type": "code",
   "execution_count": 14,
   "metadata": {},
   "outputs": [],
   "source": [
    "trainX, trainY = np.array(trainX), np.array(trainY)"
   ]
  },
  {
   "cell_type": "code",
   "execution_count": 15,
   "metadata": {},
   "outputs": [
    {
     "name": "stdout",
     "output_type": "stream",
     "text": [
      "trainX shape == (722, 14, 5).\n",
      "trainY shape == (722, 1).\n"
     ]
    }
   ],
   "source": [
    "print('trainX shape == {}.'.format(trainX.shape))\n",
    "print('trainY shape == {}.'.format(trainY.shape))"
   ]
  },
  {
   "cell_type": "markdown",
   "metadata": {},
   "source": [
    "the shape says: trainX has 724 values 14 rows and 5 columns and trainY has 724 values and 1 column"
   ]
  },
  {
   "cell_type": "markdown",
   "metadata": {},
   "source": [
    "### AUTO ENCODER MDOEL"
   ]
  },
  {
   "cell_type": "code",
   "execution_count": 16,
   "metadata": {},
   "outputs": [],
   "source": [
    "#Needed to downgarade the np version because the NN layers were giving an error saying Cannot convert a symbolic Tensor (gru/strided_slice:0) to a numpy array\n",
    "\n",
    "#!pip install numpy==1.19.4"
   ]
  },
  {
   "cell_type": "code",
   "execution_count": 17,
   "metadata": {},
   "outputs": [
    {
     "data": {
      "text/plain": [
       "'1.19.4'"
      ]
     },
     "execution_count": 17,
     "metadata": {},
     "output_type": "execute_result"
    }
   ],
   "source": [
    "np.__version__"
   ]
  },
  {
   "cell_type": "code",
   "execution_count": 18,
   "metadata": {},
   "outputs": [],
   "source": [
    "model = Sequential()\n",
    "model.add(LSTM(64, activation='relu', input_shape=(14, 5), return_sequences=True))\n",
    "model.add(LSTM(32, activation='relu', return_sequences=False))\n",
    "model.add(Dropout(0.2))\n",
    "model.add(Dense(trainY.shape[1]))"
   ]
  },
  {
   "cell_type": "code",
   "execution_count": 19,
   "metadata": {},
   "outputs": [
    {
     "name": "stdout",
     "output_type": "stream",
     "text": [
      "Model: \"sequential\"\n",
      "_________________________________________________________________\n",
      "Layer (type)                 Output Shape              Param #   \n",
      "=================================================================\n",
      "lstm (LSTM)                  (None, 14, 64)            17920     \n",
      "_________________________________________________________________\n",
      "lstm_1 (LSTM)                (None, 32)                12416     \n",
      "_________________________________________________________________\n",
      "dropout (Dropout)            (None, 32)                0         \n",
      "_________________________________________________________________\n",
      "dense (Dense)                (None, 1)                 33        \n",
      "=================================================================\n",
      "Total params: 30,369\n",
      "Trainable params: 30,369\n",
      "Non-trainable params: 0\n",
      "_________________________________________________________________\n"
     ]
    }
   ],
   "source": [
    "model.compile(optimizer='adam', loss='mse')\n",
    "model.summary()"
   ]
  },
  {
   "cell_type": "code",
   "execution_count": 20,
   "metadata": {},
   "outputs": [
    {
     "name": "stdout",
     "output_type": "stream",
     "text": [
      "Epoch 1/10\n",
      "41/41 [==============================] - 7s 51ms/step - loss: 0.3523 - val_loss: 1.1181\n",
      "Epoch 2/10\n",
      "41/41 [==============================] - 1s 18ms/step - loss: 0.0806 - val_loss: 0.1729\n",
      "Epoch 3/10\n",
      "41/41 [==============================] - 1s 18ms/step - loss: 0.0610 - val_loss: 0.4532\n",
      "Epoch 4/10\n",
      "41/41 [==============================] - 1s 18ms/step - loss: 0.0560 - val_loss: 0.3135\n",
      "Epoch 5/10\n",
      "41/41 [==============================] - 1s 18ms/step - loss: 0.0460 - val_loss: 0.2489\n",
      "Epoch 6/10\n",
      "41/41 [==============================] - 1s 18ms/step - loss: 0.0365 - val_loss: 0.0883\n",
      "Epoch 7/10\n",
      "41/41 [==============================] - 1s 19ms/step - loss: 0.0408 - val_loss: 0.1120\n",
      "Epoch 8/10\n",
      "41/41 [==============================] - 1s 19ms/step - loss: 0.0324 - val_loss: 0.1352\n",
      "Epoch 9/10\n",
      "41/41 [==============================] - 1s 19ms/step - loss: 0.0381 - val_loss: 0.1962\n",
      "Epoch 10/10\n",
      "41/41 [==============================] - 1s 19ms/step - loss: 0.0384 - val_loss: 0.0673\n"
     ]
    }
   ],
   "source": [
    "# fit model\n",
    "history = model.fit(trainX, trainY, epochs=10, batch_size=16, validation_split=0.1, verbose=1)"
   ]
  },
  {
   "cell_type": "code",
   "execution_count": 21,
   "metadata": {},
   "outputs": [
    {
     "data": {
      "text/plain": [
       "<matplotlib.legend.Legend at 0x25d7260e888>"
      ]
     },
     "execution_count": 21,
     "metadata": {},
     "output_type": "execute_result"
    },
    {
     "data": {
      "image/png": "[encoded data removed]",
      "text/plain": [
       "<Figure size 432x288 with 1 Axes>"
      ]
     },
     "metadata": {
      "needs_background": "light"
     },
     "output_type": "display_data"
    }
   ],
   "source": [
    "plt.plot(history.history['loss'], label='Training loss')\n",
    "plt.plot(history.history['val_loss'], label='Validation loss')\n",
    "plt.legend()"
   ]
  },
  {
   "cell_type": "code",
   "execution_count": 28,
   "metadata": {},
   "outputs": [
    {
     "data": {
      "text/plain": [
       "Timestamp('2018-05-25 00:00:00')"
      ]
     },
     "execution_count": 28,
     "metadata": {},
     "output_type": "execute_result"
    }
   ],
   "source": [
    "list(train_dates)[2]"
   ]
  },
  {
   "cell_type": "code",
   "execution_count": 23,
   "metadata": {},
   "outputs": [
    {
     "data": {
      "text/html": [
       "<div>\n",
       "<style scoped>\n",
       "    .dataframe tbody tr th:only-of-type {\n",
       "        vertical-align: middle;\n",
       "    }\n",
       "\n",
       "    .dataframe tbody tr th {\n",
       "        vertical-align: top;\n",
       "    }\n",
       "\n",
       "    .dataframe thead th {\n",
       "        text-align: right;\n",
       "    }\n",
       "</style>\n",
       "<table border=\"1\" class=\"dataframe\">\n",
       "  <thead>\n",
       "    <tr style=\"text-align: right;\">\n",
       "      <th></th>\n",
       "      <th>Date</th>\n",
       "      <th>Open</th>\n",
       "      <th>High</th>\n",
       "      <th>Low</th>\n",
       "      <th>Close</th>\n",
       "      <th>Adj Close</th>\n",
       "      <th>Volume</th>\n",
       "    </tr>\n",
       "  </thead>\n",
       "  <tbody>\n",
       "    <tr>\n",
       "      <th>733</th>\n",
       "      <td>2021-05-17</td>\n",
       "      <td>364.399994</td>\n",
       "      <td>385.200012</td>\n",
       "      <td>363.649994</td>\n",
       "      <td>383.100006</td>\n",
       "      <td>383.100006</td>\n",
       "      <td>106555796.0</td>\n",
       "    </tr>\n",
       "    <tr>\n",
       "      <th>734</th>\n",
       "      <td>2021-05-18</td>\n",
       "      <td>390.000000</td>\n",
       "      <td>392.549988</td>\n",
       "      <td>380.049988</td>\n",
       "      <td>382.250000</td>\n",
       "      <td>382.250000</td>\n",
       "      <td>70917710.0</td>\n",
       "    </tr>\n",
       "    <tr>\n",
       "      <th>735</th>\n",
       "      <td>2021-05-19</td>\n",
       "      <td>382.000000</td>\n",
       "      <td>389.500000</td>\n",
       "      <td>381.200012</td>\n",
       "      <td>384.399994</td>\n",
       "      <td>384.399994</td>\n",
       "      <td>48189573.0</td>\n",
       "    </tr>\n",
       "    <tr>\n",
       "      <th>736</th>\n",
       "      <td>2021-05-20</td>\n",
       "      <td>387.000000</td>\n",
       "      <td>387.799988</td>\n",
       "      <td>382.000000</td>\n",
       "      <td>384.549988</td>\n",
       "      <td>384.549988</td>\n",
       "      <td>42898608.0</td>\n",
       "    </tr>\n",
       "    <tr>\n",
       "      <th>737</th>\n",
       "      <td>2021-05-21</td>\n",
       "      <td>390.000000</td>\n",
       "      <td>404.399994</td>\n",
       "      <td>378.000000</td>\n",
       "      <td>401.200012</td>\n",
       "      <td>401.200012</td>\n",
       "      <td>192810772.0</td>\n",
       "    </tr>\n",
       "  </tbody>\n",
       "</table>\n",
       "</div>"
      ],
      "text/plain": [
       "           Date        Open        High         Low       Close   Adj Close  \\\n",
       "733  2021-05-17  364.399994  385.200012  363.649994  383.100006  383.100006   \n",
       "734  2021-05-18  390.000000  392.549988  380.049988  382.250000  382.250000   \n",
       "735  2021-05-19  382.000000  389.500000  381.200012  384.399994  384.399994   \n",
       "736  2021-05-20  387.000000  387.799988  382.000000  384.549988  384.549988   \n",
       "737  2021-05-21  390.000000  404.399994  378.000000  401.200012  401.200012   \n",
       "\n",
       "          Volume  \n",
       "733  106555796.0  \n",
       "734   70917710.0  \n",
       "735   48189573.0  \n",
       "736   42898608.0  \n",
       "737  192810772.0  "
      ]
     },
     "execution_count": 23,
     "metadata": {},
     "output_type": "execute_result"
    }
   ],
   "source": [
    "df.tail()"
   ]
  },
  {
   "cell_type": "code",
   "execution_count": 49,
   "metadata": {},
   "outputs": [],
   "source": [
    "#Forecasting...\n",
    "#Start with the last day in training date and predict future...\n",
    "n_future=90  #Redefining n_future to extend prediction dates beyond original n_future dates...\n",
    "forecast_period_dates = pd.date_range(list(train_dates)[-1], periods=n_future, freq='1d').tolist()"
   ]
  },
  {
   "cell_type": "code",
   "execution_count": 50,
   "metadata": {},
   "outputs": [
    {
     "data": {
      "text/plain": [
       "[Timestamp('2021-05-21 00:00:00', freq='D'),\n",
       " Timestamp('2021-05-22 00:00:00', freq='D'),\n",
       " Timestamp('2021-05-23 00:00:00', freq='D'),\n",
       " Timestamp('2021-05-24 00:00:00', freq='D'),\n",
       " Timestamp('2021-05-25 00:00:00', freq='D'),\n",
       " Timestamp('2021-05-26 00:00:00', freq='D'),\n",
       " Timestamp('2021-05-27 00:00:00', freq='D'),\n",
       " Timestamp('2021-05-28 00:00:00', freq='D'),\n",
       " Timestamp('2021-05-29 00:00:00', freq='D'),\n",
       " Timestamp('2021-05-30 00:00:00', freq='D'),\n",
       " Timestamp('2021-05-31 00:00:00', freq='D'),\n",
       " Timestamp('2021-06-01 00:00:00', freq='D'),\n",
       " Timestamp('2021-06-02 00:00:00', freq='D'),\n",
       " Timestamp('2021-06-03 00:00:00', freq='D'),\n",
       " Timestamp('2021-06-04 00:00:00', freq='D'),\n",
       " Timestamp('2021-06-05 00:00:00', freq='D'),\n",
       " Timestamp('2021-06-06 00:00:00', freq='D'),\n",
       " Timestamp('2021-06-07 00:00:00', freq='D'),\n",
       " Timestamp('2021-06-08 00:00:00', freq='D'),\n",
       " Timestamp('2021-06-09 00:00:00', freq='D'),\n",
       " Timestamp('2021-06-10 00:00:00', freq='D'),\n",
       " Timestamp('2021-06-11 00:00:00', freq='D'),\n",
       " Timestamp('2021-06-12 00:00:00', freq='D'),\n",
       " Timestamp('2021-06-13 00:00:00', freq='D'),\n",
       " Timestamp('2021-06-14 00:00:00', freq='D'),\n",
       " Timestamp('2021-06-15 00:00:00', freq='D'),\n",
       " Timestamp('2021-06-16 00:00:00', freq='D'),\n",
       " Timestamp('2021-06-17 00:00:00', freq='D'),\n",
       " Timestamp('2021-06-18 00:00:00', freq='D'),\n",
       " Timestamp('2021-06-19 00:00:00', freq='D'),\n",
       " Timestamp('2021-06-20 00:00:00', freq='D'),\n",
       " Timestamp('2021-06-21 00:00:00', freq='D'),\n",
       " Timestamp('2021-06-22 00:00:00', freq='D'),\n",
       " Timestamp('2021-06-23 00:00:00', freq='D'),\n",
       " Timestamp('2021-06-24 00:00:00', freq='D'),\n",
       " Timestamp('2021-06-25 00:00:00', freq='D'),\n",
       " Timestamp('2021-06-26 00:00:00', freq='D'),\n",
       " Timestamp('2021-06-27 00:00:00', freq='D'),\n",
       " Timestamp('2021-06-28 00:00:00', freq='D'),\n",
       " Timestamp('2021-06-29 00:00:00', freq='D'),\n",
       " Timestamp('2021-06-30 00:00:00', freq='D'),\n",
       " Timestamp('2021-07-01 00:00:00', freq='D'),\n",
       " Timestamp('2021-07-02 00:00:00', freq='D'),\n",
       " Timestamp('2021-07-03 00:00:00', freq='D'),\n",
       " Timestamp('2021-07-04 00:00:00', freq='D'),\n",
       " Timestamp('2021-07-05 00:00:00', freq='D'),\n",
       " Timestamp('2021-07-06 00:00:00', freq='D'),\n",
       " Timestamp('2021-07-07 00:00:00', freq='D'),\n",
       " Timestamp('2021-07-08 00:00:00', freq='D'),\n",
       " Timestamp('2021-07-09 00:00:00', freq='D'),\n",
       " Timestamp('2021-07-10 00:00:00', freq='D'),\n",
       " Timestamp('2021-07-11 00:00:00', freq='D'),\n",
       " Timestamp('2021-07-12 00:00:00', freq='D'),\n",
       " Timestamp('2021-07-13 00:00:00', freq='D'),\n",
       " Timestamp('2021-07-14 00:00:00', freq='D'),\n",
       " Timestamp('2021-07-15 00:00:00', freq='D'),\n",
       " Timestamp('2021-07-16 00:00:00', freq='D'),\n",
       " Timestamp('2021-07-17 00:00:00', freq='D'),\n",
       " Timestamp('2021-07-18 00:00:00', freq='D'),\n",
       " Timestamp('2021-07-19 00:00:00', freq='D'),\n",
       " Timestamp('2021-07-20 00:00:00', freq='D'),\n",
       " Timestamp('2021-07-21 00:00:00', freq='D'),\n",
       " Timestamp('2021-07-22 00:00:00', freq='D'),\n",
       " Timestamp('2021-07-23 00:00:00', freq='D'),\n",
       " Timestamp('2021-07-24 00:00:00', freq='D'),\n",
       " Timestamp('2021-07-25 00:00:00', freq='D'),\n",
       " Timestamp('2021-07-26 00:00:00', freq='D'),\n",
       " Timestamp('2021-07-27 00:00:00', freq='D'),\n",
       " Timestamp('2021-07-28 00:00:00', freq='D'),\n",
       " Timestamp('2021-07-29 00:00:00', freq='D'),\n",
       " Timestamp('2021-07-30 00:00:00', freq='D'),\n",
       " Timestamp('2021-07-31 00:00:00', freq='D'),\n",
       " Timestamp('2021-08-01 00:00:00', freq='D'),\n",
       " Timestamp('2021-08-02 00:00:00', freq='D'),\n",
       " Timestamp('2021-08-03 00:00:00', freq='D'),\n",
       " Timestamp('2021-08-04 00:00:00', freq='D'),\n",
       " Timestamp('2021-08-05 00:00:00', freq='D'),\n",
       " Timestamp('2021-08-06 00:00:00', freq='D'),\n",
       " Timestamp('2021-08-07 00:00:00', freq='D'),\n",
       " Timestamp('2021-08-08 00:00:00', freq='D'),\n",
       " Timestamp('2021-08-09 00:00:00', freq='D'),\n",
       " Timestamp('2021-08-10 00:00:00', freq='D'),\n",
       " Timestamp('2021-08-11 00:00:00', freq='D'),\n",
       " Timestamp('2021-08-12 00:00:00', freq='D'),\n",
       " Timestamp('2021-08-13 00:00:00', freq='D'),\n",
       " Timestamp('2021-08-14 00:00:00', freq='D'),\n",
       " Timestamp('2021-08-15 00:00:00', freq='D'),\n",
       " Timestamp('2021-08-16 00:00:00', freq='D'),\n",
       " Timestamp('2021-08-17 00:00:00', freq='D'),\n",
       " Timestamp('2021-08-18 00:00:00', freq='D')]"
      ]
     },
     "execution_count": 50,
     "metadata": {},
     "output_type": "execute_result"
    }
   ],
   "source": [
    "forecast_period_dates"
   ]
  },
  {
   "cell_type": "code",
   "execution_count": 51,
   "metadata": {},
   "outputs": [
    {
     "data": {
      "text/plain": [
       "-90"
      ]
     },
     "execution_count": 51,
     "metadata": {},
     "output_type": "execute_result"
    }
   ],
   "source": [
    "-n_future"
   ]
  },
  {
   "cell_type": "code",
   "execution_count": 52,
   "metadata": {},
   "outputs": [],
   "source": [
    "forecast = model.predict(trainX[-n_future:]) #forecast"
   ]
  },
  {
   "cell_type": "code",
   "execution_count": 53,
   "metadata": {},
   "outputs": [],
   "source": [
    "#Perform inverse transformation to rescale back to original range\n",
    "#Since we used 5 variables for transform, the inverse expects same dimensions\n",
    "#Therefore, let us copy our values 5 times and discard them after inverse transform\n",
    "forecast_copies = np.repeat(forecast, df_for_training.shape[1], axis=-1)\n",
    "y_pred_future = scaler.inverse_transform(forecast_copies)[:,0] #all rows and only 1 column ie. 0th"
   ]
  },
  {
   "cell_type": "code",
   "execution_count": 54,
   "metadata": {},
   "outputs": [],
   "source": [
    "# Convert timestamp to date\n",
    "forecast_dates = []\n",
    "for time_i in forecast_period_dates:\n",
    "    forecast_dates.append(time_i.date())"
   ]
  },
  {
   "cell_type": "code",
   "execution_count": 55,
   "metadata": {},
   "outputs": [],
   "source": [
    "df_forecast = pd.DataFrame({'Date':np.array(forecast_dates), 'Open':y_pred_future})\n",
    "df_forecast['Date']=pd.to_datetime(df_forecast['Date'])"
   ]
  },
  {
   "cell_type": "code",
   "execution_count": 56,
   "metadata": {},
   "outputs": [
    {
     "name": "stderr",
     "output_type": "stream",
     "text": [
      "C:\\Users\\Shubham\\Anaconda3\\lib\\site-packages\\ipykernel_launcher.py:2: SettingWithCopyWarning: \n",
      "A value is trying to be set on a copy of a slice from a DataFrame.\n",
      "Try using .loc[row_indexer,col_indexer] = value instead\n",
      "\n",
      "See the caveats in the documentation: https://pandas.pydata.org/pandas-docs/stable/user_guide/indexing.html#returning-a-view-versus-a-copy\n",
      "  \n"
     ]
    }
   ],
   "source": [
    "original = df[['Date', 'Open']]\n",
    "original['Date']=pd.to_datetime(original['Date'])\n",
    "original = original.loc[original['Date'] >= '2021-01-01'] #date to start the visualization from so that the graph is seen clearly zoomed"
   ]
  },
  {
   "cell_type": "code",
   "execution_count": 57,
   "metadata": {},
   "outputs": [
    {
     "name": "stderr",
     "output_type": "stream",
     "text": [
      "C:\\Users\\Shubham\\Anaconda3\\lib\\site-packages\\seaborn\\_decorators.py:43: FutureWarning: Pass the following variables as keyword args: x, y. From version 0.12, the only valid positional argument will be `data`, and passing other arguments without an explicit keyword will result in an error or misinterpretation.\n",
      "  FutureWarning\n",
      "C:\\Users\\Shubham\\Anaconda3\\lib\\site-packages\\seaborn\\_decorators.py:43: FutureWarning: Pass the following variables as keyword args: x, y. From version 0.12, the only valid positional argument will be `data`, and passing other arguments without an explicit keyword will result in an error or misinterpretation.\n",
      "  FutureWarning\n"
     ]
    },
    {
     "data": {
      "text/plain": [
       "<matplotlib.axes._subplots.AxesSubplot at 0x25d782b3548>"
      ]
     },
     "execution_count": 57,
     "metadata": {},
     "output_type": "execute_result"
    },
    {
     "data": {
      "image/png": "[encoded data removed]",
      "text/plain": [
       "<Figure size 432x288 with 1 Axes>"
      ]
     },
     "metadata": {
      "needs_background": "light"
     },
     "output_type": "display_data"
    }
   ],
   "source": [
    "sns.lineplot(original['Date'], original['Open'])\n",
    "sns.lineplot(df_forecast['Date'], df_forecast['Open'])"
   ]
  },
  {
   "cell_type": "markdown",
   "metadata": {},
   "source": [
    "## FBPROPHET"
   ]
  },
  {
   "cell_type": "code",
   "execution_count": 68,
   "metadata": {},
   "outputs": [],
   "source": [
    "from fbprophet import Prophet"
   ]
  },
  {
   "cell_type": "code",
   "execution_count": 59,
   "metadata": {},
   "outputs": [],
   "source": [
    "df2 = df.reset_index()[['Date', 'Open']].rename({'Date':'ds', 'Open':'y'}, axis='columns')"
   ]
  },
  {
   "cell_type": "code",
   "execution_count": 60,
   "metadata": {},
   "outputs": [
    {
     "data": {
      "text/html": [
       "<div>\n",
       "<style scoped>\n",
       "    .dataframe tbody tr th:only-of-type {\n",
       "        vertical-align: middle;\n",
       "    }\n",
       "\n",
       "    .dataframe tbody tr th {\n",
       "        vertical-align: top;\n",
       "    }\n",
       "\n",
       "    .dataframe thead th {\n",
       "        text-align: right;\n",
       "    }\n",
       "</style>\n",
       "<table border=\"1\" class=\"dataframe\">\n",
       "  <thead>\n",
       "    <tr style=\"text-align: right;\">\n",
       "      <th></th>\n",
       "      <th>ds</th>\n",
       "      <th>y</th>\n",
       "    </tr>\n",
       "  </thead>\n",
       "  <tbody>\n",
       "    <tr>\n",
       "      <th>0</th>\n",
       "      <td>2018-05-23</td>\n",
       "      <td>254.649994</td>\n",
       "    </tr>\n",
       "    <tr>\n",
       "      <th>1</th>\n",
       "      <td>2018-05-24</td>\n",
       "      <td>263.850006</td>\n",
       "    </tr>\n",
       "    <tr>\n",
       "      <th>2</th>\n",
       "      <td>2018-05-25</td>\n",
       "      <td>267.799988</td>\n",
       "    </tr>\n",
       "    <tr>\n",
       "      <th>3</th>\n",
       "      <td>2018-05-28</td>\n",
       "      <td>267.399994</td>\n",
       "    </tr>\n",
       "    <tr>\n",
       "      <th>4</th>\n",
       "      <td>2018-05-29</td>\n",
       "      <td>270.500000</td>\n",
       "    </tr>\n",
       "  </tbody>\n",
       "</table>\n",
       "</div>"
      ],
      "text/plain": [
       "           ds           y\n",
       "0  2018-05-23  254.649994\n",
       "1  2018-05-24  263.850006\n",
       "2  2018-05-25  267.799988\n",
       "3  2018-05-28  267.399994\n",
       "4  2018-05-29  270.500000"
      ]
     },
     "execution_count": 60,
     "metadata": {},
     "output_type": "execute_result"
    }
   ],
   "source": [
    "df2.head()"
   ]
  },
  {
   "cell_type": "code",
   "execution_count": 61,
   "metadata": {},
   "outputs": [
    {
     "data": {
      "text/html": [
       "<div>\n",
       "<style scoped>\n",
       "    .dataframe tbody tr th:only-of-type {\n",
       "        vertical-align: middle;\n",
       "    }\n",
       "\n",
       "    .dataframe tbody tr th {\n",
       "        vertical-align: top;\n",
       "    }\n",
       "\n",
       "    .dataframe thead th {\n",
       "        text-align: right;\n",
       "    }\n",
       "</style>\n",
       "<table border=\"1\" class=\"dataframe\">\n",
       "  <thead>\n",
       "    <tr style=\"text-align: right;\">\n",
       "      <th></th>\n",
       "      <th>ds</th>\n",
       "      <th>y</th>\n",
       "    </tr>\n",
       "  </thead>\n",
       "  <tbody>\n",
       "    <tr>\n",
       "      <th>731</th>\n",
       "      <td>2021-05-17</td>\n",
       "      <td>364.399994</td>\n",
       "    </tr>\n",
       "    <tr>\n",
       "      <th>732</th>\n",
       "      <td>2021-05-18</td>\n",
       "      <td>390.000000</td>\n",
       "    </tr>\n",
       "    <tr>\n",
       "      <th>733</th>\n",
       "      <td>2021-05-19</td>\n",
       "      <td>382.000000</td>\n",
       "    </tr>\n",
       "    <tr>\n",
       "      <th>734</th>\n",
       "      <td>2021-05-20</td>\n",
       "      <td>387.000000</td>\n",
       "    </tr>\n",
       "    <tr>\n",
       "      <th>735</th>\n",
       "      <td>2021-05-21</td>\n",
       "      <td>390.000000</td>\n",
       "    </tr>\n",
       "  </tbody>\n",
       "</table>\n",
       "</div>"
      ],
      "text/plain": [
       "             ds           y\n",
       "731  2021-05-17  364.399994\n",
       "732  2021-05-18  390.000000\n",
       "733  2021-05-19  382.000000\n",
       "734  2021-05-20  387.000000\n",
       "735  2021-05-21  390.000000"
      ]
     },
     "execution_count": 61,
     "metadata": {},
     "output_type": "execute_result"
    }
   ],
   "source": [
    "df2.tail()"
   ]
  },
  {
   "cell_type": "code",
   "execution_count": 65,
   "metadata": {},
   "outputs": [],
   "source": [
    "train = df2[(df2['ds'] >= '2018-05-23') & (df2['ds'] <= '2021-01-23')]\n",
    "test =  df2[(df2['ds'] > '2021-01-23')]"
   ]
  },
  {
   "cell_type": "code",
   "execution_count": 66,
   "metadata": {},
   "outputs": [
    {
     "data": {
      "text/plain": [
       "(658, 2)"
      ]
     },
     "execution_count": 66,
     "metadata": {},
     "output_type": "execute_result"
    }
   ],
   "source": [
    "train.shape"
   ]
  },
  {
   "cell_type": "code",
   "execution_count": 73,
   "metadata": {},
   "outputs": [
    {
     "data": {
      "text/plain": [
       "(78, 2)"
      ]
     },
     "execution_count": 73,
     "metadata": {},
     "output_type": "execute_result"
    }
   ],
   "source": [
    "test.shape"
   ]
  },
  {
   "cell_type": "code",
   "execution_count": 69,
   "metadata": {},
   "outputs": [],
   "source": [
    "m = Prophet(interval_width=0.95, yearly_seasonality=True)"
   ]
  },
  {
   "cell_type": "code",
   "execution_count": 70,
   "metadata": {},
   "outputs": [
    {
     "name": "stderr",
     "output_type": "stream",
     "text": [
      "INFO:fbprophet:Disabling daily seasonality. Run prophet with daily_seasonality=True to override this.\n"
     ]
    },
    {
     "data": {
      "text/plain": [
       "<fbprophet.forecaster.Prophet at 0x25d7a40f4c8>"
      ]
     },
     "execution_count": 70,
     "metadata": {},
     "output_type": "execute_result"
    }
   ],
   "source": [
    "m.fit(train)"
   ]
  },
  {
   "cell_type": "code",
   "execution_count": 71,
   "metadata": {},
   "outputs": [
    {
     "data": {
      "text/plain": [
       "OrderedDict([('k', array([[0.53436142]])),\n",
       "             ('m', array([[0.71541332]])),\n",
       "             ('delta',\n",
       "              array([[ 2.53931089e-08, -1.63918458e-07, -5.19253409e-01,\n",
       "                      -4.88113548e-01, -1.05393668e-07,  8.07669657e-07,\n",
       "                       4.86158239e-01,  1.36382079e+00,  2.38644665e-01,\n",
       "                      -1.38038708e-07, -6.00914738e-01, -1.46921232e+00,\n",
       "                      -3.85342022e-01,  4.06887127e-08,  3.81826680e-01,\n",
       "                       4.38717153e-05, -1.18970656e-07, -2.85686011e-03,\n",
       "                      -9.48388986e-01, -8.93243846e-01, -3.32289855e-08,\n",
       "                       1.05653254e-02,  1.45873850e+00,  1.40594728e+00,\n",
       "                       3.45813446e-01]])),\n",
       "             ('sigma_obs', array([[0.04417826]])),\n",
       "             ('beta',\n",
       "              array([[ 5.63758952e-03,  3.77998022e-02,  1.72342440e-02,\n",
       "                       5.44547216e-02, -3.61656077e-03,  2.15010054e-03,\n",
       "                      -7.33808461e-03, -7.35839308e-03,  5.36484812e-03,\n",
       "                      -9.59290449e-03,  1.15222289e-03,  2.08813891e-03,\n",
       "                       1.00258005e-03,  1.09971887e-02,  8.09948934e-03,\n",
       "                       9.17416347e-06,  1.62930987e-03, -2.88206871e-03,\n",
       "                      -2.97133649e-03, -2.13466144e-03, -1.04985056e-02,\n",
       "                       6.15270242e-03,  9.75300086e-03,  3.25423980e-03,\n",
       "                      -2.88342557e-03, -2.35481523e-03]])),\n",
       "             ('trend',\n",
       "              array([[0.71541332, 0.71596138, 0.71650944, 0.71815363, 0.71870169,\n",
       "                      0.71924976, 0.71979782, 0.72034588, 0.72199007, 0.72253813,\n",
       "                      0.7230862 , 0.72363426, 0.72418232, 0.72582651, 0.72637457,\n",
       "                      0.72692264, 0.7274707 , 0.72801876, 0.72966295, 0.73021102,\n",
       "                      0.73075908, 0.73130714, 0.7318552 , 0.73349939, 0.73404746,\n",
       "                      0.73459552, 0.73514358, 0.73569165, 0.73733584, 0.7378839 ,\n",
       "                      0.73843196, 0.73898002, 0.73952809, 0.74117228, 0.74172034,\n",
       "                      0.7422684 , 0.74281647, 0.74336453, 0.74500872, 0.74555678,\n",
       "                      0.74610484, 0.74665291, 0.74720097, 0.74884516, 0.74939322,\n",
       "                      0.74994128, 0.75048935, 0.75103741, 0.7526816 , 0.75322966,\n",
       "                      0.75377772, 0.75432579, 0.75487385, 0.75651804, 0.7570661 ,\n",
       "                      0.75761416, 0.75816223, 0.75871029, 0.76035448, 0.76090254,\n",
       "                      0.76199867, 0.76254673, 0.76419092, 0.76473898, 0.76476997,\n",
       "                      0.76478547, 0.76483195, 0.76484745, 0.76486294, 0.76487844,\n",
       "                      0.76489393, 0.76494042, 0.76495591, 0.76497141, 0.76498691,\n",
       "                      0.7650024 , 0.76504889, 0.76506438, 0.76507988, 0.76511087,\n",
       "                      0.76515735, 0.76517285, 0.76518834, 0.76521933, 0.76526582,\n",
       "                      0.76478069, 0.76429555, 0.76381042, 0.76332528, 0.76186988,\n",
       "                      0.76089961, 0.76041448, 0.75992935, 0.75847394, 0.75798881,\n",
       "                      0.75750368, 0.75701854, 0.75653341, 0.75507801, 0.75459287,\n",
       "                      0.75410774, 0.75313747, 0.75168207, 0.75119693, 0.7507118 ,\n",
       "                      0.75022667, 0.74974153, 0.74828613, 0.74780099, 0.74731586,\n",
       "                      0.74683073, 0.74634559, 0.74489019, 0.74440506, 0.74391992,\n",
       "                      0.74294965, 0.74149425, 0.74100912, 0.74052398, 0.74003885,\n",
       "                      0.73955371, 0.73809831, 0.73761318, 0.73712804, 0.73664291,\n",
       "                      0.73470237, 0.73421724, 0.73373211, 0.73324697, 0.73276184,\n",
       "                      0.73130644, 0.73082131, 0.73033617, 0.72985104, 0.72936591,\n",
       "                      0.72791051, 0.72742537, 0.72694024, 0.72645511, 0.72596997,\n",
       "                      0.72451457, 0.72402944, 0.72354431, 0.72305917, 0.72257404,\n",
       "                      0.72111864, 0.72014837, 0.71966324, 0.71967673, 0.7197172 ,\n",
       "                      0.71973069, 0.71974418, 0.71975767, 0.71977116, 0.71981164,\n",
       "                      0.71982513, 0.71983862, 0.71985211, 0.7198656 , 0.71990607,\n",
       "                      0.71991956, 0.71993305, 0.71994654, 0.71996003, 0.7200005 ,\n",
       "                      0.72001399, 0.72002748, 0.72004097, 0.72005447, 0.72429131,\n",
       "                      0.72570359, 0.72711587, 0.72852815, 0.72994043, 0.73417728,\n",
       "                      0.73558956, 0.73700184, 0.73841412, 0.7398264 , 0.74406324,\n",
       "                      0.74547552, 0.74830009, 0.74971237, 0.75394921, 0.75536149,\n",
       "                      0.75677377, 0.75818605, 0.75959834, 0.76383518, 0.76524746,\n",
       "                      0.7669045 , 0.76856155, 0.77021859, 0.77684677, 0.77850382,\n",
       "                      0.78016086, 0.78181791, 0.78678904, 0.78844609, 0.79010313,\n",
       "                      0.79176018, 0.79341722, 0.79838836, 0.8000454 , 0.80170245,\n",
       "                      0.80501654, 0.80998767, 0.81164472, 0.81330176, 0.8149588 ,\n",
       "                      0.82158698, 0.82324403, 0.82490107, 0.82655812, 0.82821516,\n",
       "                      0.8331863 , 0.83484334, 0.83650039, 0.83815743, 0.83981448,\n",
       "                      0.84478561, 0.84644265, 0.84975674, 0.85638492, 0.85804197,\n",
       "                      0.85969901, 0.86135606, 0.8630131 , 0.86964128, 0.87295537,\n",
       "                      0.87461241, 0.87958355, 0.88062427, 0.88166499, 0.88270571,\n",
       "                      0.88374644, 0.8868686 , 0.88790932, 0.88895005, 0.88999077,\n",
       "                      0.89103149, 0.89415366, 0.89519438, 0.8962351 , 0.89727582,\n",
       "                      0.89831654, 0.90143871, 0.90247943, 0.90352015, 0.90456087,\n",
       "                      0.9056016 , 0.90872376, 0.90976448, 0.90883216, 0.908366  ,\n",
       "                      0.90696751, 0.90650135, 0.90603518, 0.90556902, 0.90510286,\n",
       "                      0.90370437, 0.90323821, 0.90277205, 0.90230588, 0.90183972,\n",
       "                      0.90044123, 0.89997507, 0.89950891, 0.89904274, 0.89857658,\n",
       "                      0.89717809, 0.89671193, 0.89624577, 0.89577961, 0.89491822,\n",
       "                      0.89233407, 0.89147268, 0.8906113 , 0.88974991, 0.88888853,\n",
       "                      0.88630437, 0.88544299, 0.8845816 , 0.88372022, 0.88285883,\n",
       "                      0.88027467, 0.87941329, 0.8785519 , 0.87769052, 0.87682913,\n",
       "                      0.87424498, 0.87338359, 0.87252221, 0.87166082, 0.87079944,\n",
       "                      0.86821528, 0.8673539 , 0.86649251, 0.86563113, 0.86476974,\n",
       "                      0.8613242 , 0.86046282, 0.85874005, 0.85615589, 0.85529451,\n",
       "                      0.85443312, 0.85357174, 0.85271035, 0.8501262 , 0.84926481,\n",
       "                      0.84840343, 0.84754204, 0.84668066, 0.84323512, 0.84237373,\n",
       "                      0.84151235, 0.84104258, 0.83963327, 0.83869374, 0.83822397,\n",
       "                      0.8377542 , 0.8363449 , 0.83587513, 0.83540536, 0.83493559,\n",
       "                      0.83446583, 0.83305652, 0.83258675, 0.83211699, 0.83164722,\n",
       "                      0.83117745, 0.82976815, 0.82929838, 0.82835884, 0.82788907,\n",
       "                      0.82647977, 0.82554023, 0.82507051, 0.82460079, 0.82319162,\n",
       "                      0.8227219 , 0.82225217, 0.82178245, 0.82131273, 0.81943384,\n",
       "                      0.81896411, 0.81849439, 0.81802467, 0.81614577, 0.81567605,\n",
       "                      0.81520633, 0.81473661, 0.81332744, 0.81285771, 0.81238799,\n",
       "                      0.81191827, 0.81144854, 0.81003938, 0.80909993, 0.80863021,\n",
       "                      0.80816048, 0.80675131, 0.80628159, 0.80581187, 0.80534214,\n",
       "                      0.80487242, 0.80346325, 0.80299353, 0.80252381, 0.80205408,\n",
       "                      0.80158436, 0.80017519, 0.79970547, 0.79923574, 0.79876602,\n",
       "                      0.7982963 , 0.79688713, 0.79641741, 0.79594768, 0.79547503,\n",
       "                      0.79500238, 0.79358442, 0.79311176, 0.79263911, 0.79216646,\n",
       "                      0.7916938 , 0.79027584, 0.78980319, 0.78885788, 0.78838523,\n",
       "                      0.78696727, 0.78649462, 0.78602196, 0.78554931, 0.78507666,\n",
       "                      0.7836587 , 0.78318605, 0.78271339, 0.78224074, 0.78176809,\n",
       "                      0.77743201, 0.77598665, 0.77454129, 0.77309593, 0.77165057,\n",
       "                      0.76731449, 0.76586913, 0.76442377, 0.76297841, 0.76153305,\n",
       "                      0.75719697, 0.75575161, 0.75430625, 0.75286089, 0.75141553,\n",
       "                      0.74707945, 0.74563409, 0.74418873, 0.74274337, 0.74129801,\n",
       "                      0.73696193, 0.73460042, 0.73223892, 0.72987741, 0.7275159 ,\n",
       "                      0.72043138, 0.71806987, 0.71570836, 0.71334686, 0.70390083,\n",
       "                      0.70153932, 0.69917781, 0.6968163 , 0.6944548 , 0.68737027,\n",
       "                      0.68500877, 0.68264726, 0.68028575, 0.67792424, 0.67083972,\n",
       "                      0.66611671, 0.6637552 , 0.66139369, 0.65430917, 0.65194766,\n",
       "                      0.64958616, 0.64722465, 0.64486314, 0.63777862, 0.63541711,\n",
       "                      0.6330556 , 0.6306941 , 0.62833259, 0.62124807, 0.61888656,\n",
       "                      0.61652505, 0.61180204, 0.60235601, 0.5999945 , 0.59763299,\n",
       "                      0.58818696, 0.58346395, 0.58110244, 0.57875177, 0.57169976,\n",
       "                      0.56934908, 0.56699841, 0.56464774, 0.56229707, 0.55524506,\n",
       "                      0.55289439, 0.55054371, 0.54819304, 0.53879036, 0.53643969,\n",
       "                      0.53408902, 0.53173834, 0.52938767, 0.52233566, 0.51998499,\n",
       "                      0.51763432, 0.51528365, 0.51293297, 0.50588096, 0.50502643,\n",
       "                      0.5041719 , 0.50331737, 0.50246284, 0.49904473, 0.4981902 ,\n",
       "                      0.49733567, 0.49648114, 0.49391755, 0.49306302, 0.49220849,\n",
       "                      0.49135397, 0.49049944, 0.48793585, 0.48708132, 0.48622679,\n",
       "                      0.48537226, 0.48451773, 0.48195415, 0.48109962, 0.48024509,\n",
       "                      0.48083255, 0.48142002, 0.48318243, 0.4837699 , 0.48435736,\n",
       "                      0.48494483, 0.4855323 , 0.4872947 , 0.48788217, 0.48846964,\n",
       "                      0.48905711, 0.48964458, 0.49140698, 0.49199445, 0.49258192,\n",
       "                      0.49316938, 0.49375685, 0.49551926, 0.49610672, 0.49669419,\n",
       "                      0.49728166, 0.49822381, 0.50105025, 0.5019924 , 0.50293455,\n",
       "                      0.5038767 , 0.50481885, 0.50764529, 0.50858744, 0.50952959,\n",
       "                      0.51047174, 0.51141389, 0.51424033, 0.51518248, 0.51612463,\n",
       "                      0.51706678, 0.51800893, 0.52083537, 0.52177752, 0.52271967,\n",
       "                      0.52366182, 0.52460397, 0.52743041, 0.52837256, 0.52931471,\n",
       "                      0.53025686, 0.53119901, 0.53402545, 0.5349676 , 0.53590975,\n",
       "                      0.5368519 , 0.53779405, 0.54062049, 0.54156264, 0.54250479,\n",
       "                      0.54344694, 0.54438909, 0.54721553, 0.54815768, 0.54909983,\n",
       "                      0.55004198, 0.55098413, 0.55381057, 0.55475272, 0.55569487,\n",
       "                      0.55663702, 0.55757917, 0.56040561, 0.56134776, 0.56228991,\n",
       "                      0.56323206, 0.5641742 , 0.56700065, 0.5679428 , 0.56888495,\n",
       "                      0.5698271 , 0.57359569, 0.57453784, 0.57547999, 0.57642214,\n",
       "                      0.57736428, 0.58019073, 0.58113288, 0.58207503, 0.58301718,\n",
       "                      0.58395932, 0.58678577, 0.58772792, 0.58867007, 0.58961221,\n",
       "                      0.59055436, 0.59338081, 0.59432296, 0.59526511, 0.59620725,\n",
       "                      0.5971494 , 0.59997585, 0.600918  , 0.60186015, 0.60280229,\n",
       "                      0.60374444, 0.60657089, 0.60751304, 0.60845519, 0.60939733,\n",
       "                      0.61033948, 0.61410808, 0.61505022, 0.61599237, 0.61693452,\n",
       "                      0.61976097, 0.62070312, 0.62164526, 0.62258741, 0.62352956,\n",
       "                      0.62729816, 0.6282403 , 0.62918245, 0.6301246 , 0.63295105,\n",
       "                      0.6338932 , 0.63483534, 0.63577749, 0.63671964, 0.63954609,\n",
       "                      0.64048823, 0.64143038, 0.64237253, 0.64331468, 0.64614113,\n",
       "                      0.64708327, 0.64802542, 0.64896757, 0.65273617, 0.65367831,\n",
       "                      0.65462046, 0.65556261, 0.65650476, 0.65933121, 0.66027335,\n",
       "                      0.6612155 , 0.66215765, 0.6630998 , 0.66592624, 0.66686839,\n",
       "                      0.66781054, 0.66875269, 0.66969484, 0.67252128, 0.67346343,\n",
       "                      0.67440558, 0.67534773, 0.67628988]])),\n",
       "             ('Y',\n",
       "              array([[0.68957979, 0.69468857, 0.69607463, 0.71167637, 0.70887397,\n",
       "                      0.71026571, 0.7146807 , 0.71535686, 0.72882374, 0.72532818,\n",
       "                      0.7260412 , 0.72979256, 0.72981947, 0.74140544, 0.73729668,\n",
       "                      0.73739933, 0.74054145, 0.7399594 , 0.74972738, 0.74502395,\n",
       "                      0.74454467, 0.74712342, 0.74600317, 0.75438039, 0.74931239,\n",
       "                      0.74852919, 0.75087006, 0.74958199, 0.75789175, 0.7529421 ,\n",
       "                      0.75234024, 0.75491779, 0.75391217, 0.76322215, 0.75860978,\n",
       "                      0.75832159, 0.76117357, 0.7603879 , 0.76989469, 0.76515663,\n",
       "                      0.76463424, 0.76713981, 0.76589487, 0.77338767, 0.76779559,\n",
       "                      0.7663499 , 0.76788003, 0.76562673, 0.77011035, 0.76359497,\n",
       "                      0.76130269, 0.76208357, 0.75919719, 0.76262904, 0.75608003,\n",
       "                      0.75392087, 0.75500067, 0.75257411, 0.75824304, 0.75267181,\n",
       "                      0.75376787, 0.75248841, 0.76151121, 0.7569385 , 0.75863697,\n",
       "                      0.75745131, 0.76573559, 0.76054545, 0.75953314, 0.76150356,\n",
       "                      0.7596722 , 0.7650556 , 0.75863474, 0.756295  , 0.75686513,\n",
       "                      0.75358548, 0.75458769, 0.74677514, 0.74311508, 0.73805332,\n",
       "                      0.73645552, 0.72805826, 0.72395996, 0.71845444, 0.71718688,\n",
       "                      0.70862958, 0.70446875, 0.70354015, 0.69908622, 0.6984703 ,\n",
       "                      0.68740685, 0.68735684, 0.68381339, 0.6861328 , 0.67944257,\n",
       "                      0.67723314, 0.67834319, 0.67601998, 0.68241535, 0.67723519,\n",
       "                      0.67661427, 0.67880614, 0.69078944, 0.68755889, 0.68890702,\n",
       "                      0.69365364, 0.69502321, 0.7125521 , 0.71099242, 0.71388657,\n",
       "                      0.72003404, 0.72264047, 0.74274023, 0.74161918, 0.74473135,\n",
       "                      0.753256  , 0.77142741, 0.76928531, 0.77121438, 0.77603219,\n",
       "                      0.77696789, 0.79031335, 0.78648025, 0.78671678, 0.78986299,\n",
       "                      0.79805636, 0.7929292 , 0.79198536, 0.79407152, 0.79244173,\n",
       "                      0.799271  , 0.79369788, 0.79241891, 0.79427316, 0.79250629,\n",
       "                      0.79940227, 0.79398033, 0.79290264, 0.7950006 , 0.79351293,\n",
       "                      0.80140316, 0.79635006, 0.7956542 , 0.79814423, 0.79705633,\n",
       "                      0.80616478, 0.80120867, 0.80407493, 0.80383977, 0.81529082,\n",
       "                      0.81131557, 0.81161772, 0.81500878, 0.81470677, 0.82529277,\n",
       "                      0.8207777 , 0.82040345, 0.82297838, 0.82172005, 0.82863764,\n",
       "                      0.82266378, 0.82073651, 0.82168336, 0.81874409, 0.82056071,\n",
       "                      0.8129624 , 0.80949855, 0.8090266 , 0.80481512, 0.80814669,\n",
       "                      0.80150092, 0.79923756, 0.80022108, 0.79772146, 0.80345551,\n",
       "                      0.79804313, 0.79718731, 0.79971923, 0.79887106, 0.80974754,\n",
       "                      0.80595781, 0.81045931, 0.81072425, 0.82327841, 0.8193956 ,\n",
       "                      0.81958591, 0.82262625, 0.82170519, 0.82862622, 0.82225807,\n",
       "                      0.81996556, 0.8203282 , 0.81658766, 0.80564339, 0.80049271,\n",
       "                      0.79822646, 0.79214412, 0.7855449 , 0.7756656 , 0.77026594,\n",
       "                      0.76824456, 0.76290404, 0.76139214, 0.75407402, 0.75160145,\n",
       "                      0.75097733, 0.7608366 , 0.75737173, 0.75866707, 0.76350164,\n",
       "                      0.78324697, 0.78178824, 0.78464962, 0.79059134, 0.79278459,\n",
       "                      0.8101441 , 0.8075577 , 0.80892082, 0.81303767, 0.81312945,\n",
       "                      0.82308952, 0.81787213, 0.8182073 , 0.81995851, 0.81333893,\n",
       "                      0.81102015, 0.81188357, 0.8092166 , 0.80875543, 0.81023231,\n",
       "                      0.80940067, 0.82104407, 0.81720777, 0.81800003, 0.82223087,\n",
       "                      0.82311417, 0.83925873, 0.83723358, 0.83965022, 0.84530558,\n",
       "                      0.84740537, 0.86593875, 0.86430635, 0.8669312 , 0.8726247 ,\n",
       "                      0.87460902, 0.89205576, 0.88987628, 0.89189139, 0.89692875,\n",
       "                      0.89822517, 0.913535  , 0.9106476 , 0.91330735, 0.9124295 ,\n",
       "                      0.92129802, 0.91628372, 0.9154812 , 0.91771834, 0.91623108,\n",
       "                      0.92327441, 0.91765615, 0.91625657, 0.91790809, 0.91585223,\n",
       "                      0.92135906, 0.91530947, 0.91353111, 0.91486301, 0.91255232,\n",
       "                      0.91771968, 0.91170219, 0.9100255 , 0.91152362, 0.90904138,\n",
       "                      0.91393855, 0.90787073, 0.90613955, 0.90756349, 0.90536694,\n",
       "                      0.9107596 , 0.90469231, 0.90286166, 0.90407898, 0.90156425,\n",
       "                      0.90533448, 0.89852005, 0.89585509, 0.89616493, 0.89268607,\n",
       "                      0.89341969, 0.88561687, 0.8820128 , 0.88145488, 0.87720059,\n",
       "                      0.87634369, 0.8683036 , 0.86462456, 0.86415799, 0.86016148,\n",
       "                      0.8538224 , 0.85109722, 0.84877955, 0.85306542, 0.84696169,\n",
       "                      0.84525679, 0.84675532, 0.84466769, 0.85045865, 0.84450675,\n",
       "                      0.84276474, 0.84403491, 0.84152954, 0.83797852, 0.83503352,\n",
       "                      0.83499825, 0.83150011, 0.83177684, 0.81972749, 0.81874379,\n",
       "                      0.81399159, 0.81118167, 0.80232705, 0.79774623, 0.79628766,\n",
       "                      0.79120655, 0.7882443 , 0.77959295, 0.77532661, 0.77428282,\n",
       "                      0.7697056 , 0.76868224, 0.76078782, 0.75711392, 0.7534072 ,\n",
       "                      0.75518935, 0.74588011, 0.7467665 , 0.74420578, 0.74980105,\n",
       "                      0.74432535, 0.74339574, 0.74585106, 0.74493698, 0.75232483,\n",
       "                      0.75333745, 0.75775853, 0.75881661, 0.77376063, 0.77647202,\n",
       "                      0.78247229, 0.78496935, 0.80498165, 0.80391305, 0.80711753,\n",
       "                      0.81339128, 0.81593957, 0.83479854, 0.83516273, 0.8402921 ,\n",
       "                      0.84154865, 0.85586806, 0.85234952, 0.85288934, 0.85632441,\n",
       "                      0.8559021 , 0.86548197, 0.86054065, 0.85975934, 0.8619849 ,\n",
       "                      0.86047197, 0.86752726, 0.86199273, 0.86073673, 0.8626001 ,\n",
       "                      0.86083023, 0.86766072, 0.86220288, 0.86108424, 0.86313419,\n",
       "                      0.86159517, 0.86931688, 0.86420424, 0.86344779, 0.86587659,\n",
       "                      0.86472733, 0.87365784, 0.86895197, 0.87142173, 0.87065312,\n",
       "                      0.88057251, 0.87611673, 0.87595694, 0.87890665, 0.8781857 ,\n",
       "                      0.88766283, 0.8828299 , 0.88216364, 0.88447149, 0.8829695 ,\n",
       "                      0.88635356, 0.87922896, 0.87615739, 0.8759614 , 0.87187542,\n",
       "                      0.87017279, 0.86135638, 0.85664312, 0.85488575, 0.84934876,\n",
       "                      0.84423785, 0.83468302, 0.82946323, 0.8274447 , 0.82190029,\n",
       "                      0.81828863, 0.80971062, 0.80567609, 0.80502449, 0.80099665,\n",
       "                      0.8024458 , 0.79466342, 0.79135917, 0.79132499, 0.78775524,\n",
       "                      0.78919706, 0.7817467 , 0.77843686, 0.77804157, 0.77083307,\n",
       "                      0.76125655, 0.75552856, 0.75246206, 0.74528693, 0.7330368 ,\n",
       "                      0.72031349, 0.71152725, 0.70555474, 0.69568782, 0.67721206,\n",
       "                      0.65355769, 0.64721439, 0.6374682 , 0.62230934, 0.61033039,\n",
       "                      0.60315978, 0.59965668, 0.5930783 , 0.5887939 , 0.5806765 ,\n",
       "                      0.5773696 , 0.57766221, 0.57474314, 0.57999176, 0.57438981,\n",
       "                      0.57319503, 0.57346987, 0.5733766 , 0.57115285, 0.57171419,\n",
       "                      0.56763087, 0.5539957 , 0.55193497, 0.54594396, 0.53859251,\n",
       "                      0.52803866, 0.52171797, 0.51851278, 0.51171275, 0.50409533,\n",
       "                      0.49416227, 0.48879345, 0.48684724, 0.47988402, 0.47222555,\n",
       "                      0.46921176, 0.46965858, 0.46678503, 0.47186023, 0.46622048,\n",
       "                      0.46506192, 0.46718123, 0.46578313, 0.47403212, 0.4705284 ,\n",
       "                      0.47130686, 0.47517538, 0.47535259, 0.48350361, 0.48375333,\n",
       "                      0.4870262 , 0.48655745, 0.49655775, 0.49189437, 0.49143395,\n",
       "                      0.49400714, 0.49285227, 0.50088252, 0.49558816, 0.49450586,\n",
       "                      0.49646361, 0.49469722, 0.50089991, 0.49499762, 0.49331023,\n",
       "                      0.4961108 , 0.49519743, 0.50407809, 0.49913091, 0.49844214,\n",
       "                      0.50085015, 0.4996018 , 0.50787596, 0.50287016, 0.50219558,\n",
       "                      0.50468826, 0.50359057, 0.51263686, 0.50796024, 0.50762922,\n",
       "                      0.5104651 , 0.50969486, 0.51947345, 0.51490858, 0.51460167,\n",
       "                      0.51736386, 0.51676899, 0.52640368, 0.52157062, 0.52089491,\n",
       "                      0.52319806, 0.52171254, 0.52838407, 0.52253272, 0.52085982,\n",
       "                      0.52220945, 0.51983631, 0.52444541, 0.5181653 , 0.51621563,\n",
       "                      0.51744918, 0.51512565, 0.52086854, 0.51527171, 0.51413691,\n",
       "                      0.51629905, 0.51499694, 0.52411812, 0.51966368, 0.51963376,\n",
       "                      0.52283635, 0.52248461, 0.53369076, 0.52961482, 0.52978313,\n",
       "                      0.53299622, 0.53246392, 0.54201057, 0.53703809, 0.53616178,\n",
       "                      0.53820097, 0.5363867 , 0.54167618, 0.53523084, 0.53289644,\n",
       "                      0.53351615, 0.53034334, 0.53211403, 0.5247322 , 0.52159768,\n",
       "                      0.52155994, 0.5178756 , 0.51897767, 0.511646  , 0.50868534,\n",
       "                      0.50893527, 0.50564168, 0.50842345, 0.50178556, 0.49957016,\n",
       "                      0.5006095 , 0.50360887, 0.49793067, 0.49671101, 0.49878624,\n",
       "                      0.49740165, 0.50644097, 0.50208397, 0.50225875, 0.505805  ,\n",
       "                      0.50596973, 0.52011362, 0.5175945 , 0.51966125, 0.52514143,\n",
       "                      0.52726756, 0.54728547, 0.5466547 , 0.55053929, 0.55774479,\n",
       "                      0.56148199, 0.58544528, 0.58577459, 0.59041786, 0.59817053,\n",
       "                      0.6022365 , 0.62585813, 0.62564266, 0.62954017, 0.63635959,\n",
       "                      0.63932112, 0.65700157, 0.65925469, 0.66439264, 0.66565953,\n",
       "                      0.68019902, 0.67686873, 0.67767554, 0.68146591, 0.68149459,\n",
       "                      0.68896449, 0.68914772, 0.69243426, 0.69207327, 0.7030618 ,\n",
       "                      0.69897241, 0.69921576, 0.70262532, 0.70244157, 0.7142104 ,\n",
       "                      0.71044238, 0.71102904, 0.7147998 , 0.71499174, 0.72794674,\n",
       "                      0.72458512, 0.72557889, 0.72975391, 0.7443889 , 0.7413333 ,\n",
       "                      0.7425896 , 0.74697348, 0.74770679, 0.76168472, 0.75840222,\n",
       "                      0.75931252, 0.7632229 , 0.76334866, 0.77466854, 0.77022521,\n",
       "                      0.76984693, 0.77235184, 0.77096949, 0.77734056, 0.77118429,\n",
       "                      0.76910633, 0.76995419, 0.76698756]])),\n",
       "             ('beta_m',\n",
       "              array([[ 0.,  0.,  0.,  0., -0.,  0., -0., -0.,  0., -0.,  0.,  0.,  0.,\n",
       "                       0.,  0.,  0.,  0., -0., -0., -0., -0.,  0.,  0.,  0., -0., -0.]])),\n",
       "             ('beta_a',\n",
       "              array([[ 5.63758952e-03,  3.77998022e-02,  1.72342440e-02,\n",
       "                       5.44547216e-02, -3.61656077e-03,  2.15010054e-03,\n",
       "                      -7.33808461e-03, -7.35839308e-03,  5.36484812e-03,\n",
       "                      -9.59290449e-03,  1.15222289e-03,  2.08813891e-03,\n",
       "                       1.00258005e-03,  1.09971887e-02,  8.09948934e-03,\n",
       "                       9.17416347e-06,  1.62930987e-03, -2.88206871e-03,\n",
       "                      -2.97133649e-03, -2.13466144e-03, -1.04985056e-02,\n",
       "                       6.15270242e-03,  9.75300086e-03,  3.25423980e-03,\n",
       "                      -2.88342557e-03, -2.35481523e-03]]))])"
      ]
     },
     "execution_count": 71,
     "metadata": {},
     "output_type": "execute_result"
    }
   ],
   "source": [
    "m.params"
   ]
  },
  {
   "cell_type": "code",
   "execution_count": 72,
   "metadata": {},
   "outputs": [
    {
     "data": {
      "text/html": [
       "<div>\n",
       "<style scoped>\n",
       "    .dataframe tbody tr th:only-of-type {\n",
       "        vertical-align: middle;\n",
       "    }\n",
       "\n",
       "    .dataframe tbody tr th {\n",
       "        vertical-align: top;\n",
       "    }\n",
       "\n",
       "    .dataframe thead th {\n",
       "        text-align: right;\n",
       "    }\n",
       "</style>\n",
       "<table border=\"1\" class=\"dataframe\">\n",
       "  <thead>\n",
       "    <tr style=\"text-align: right;\">\n",
       "      <th></th>\n",
       "      <th>ds</th>\n",
       "    </tr>\n",
       "  </thead>\n",
       "  <tbody>\n",
       "    <tr>\n",
       "      <th>731</th>\n",
       "      <td>2021-04-06</td>\n",
       "    </tr>\n",
       "    <tr>\n",
       "      <th>732</th>\n",
       "      <td>2021-04-07</td>\n",
       "    </tr>\n",
       "    <tr>\n",
       "      <th>733</th>\n",
       "      <td>2021-04-08</td>\n",
       "    </tr>\n",
       "    <tr>\n",
       "      <th>734</th>\n",
       "      <td>2021-04-09</td>\n",
       "    </tr>\n",
       "    <tr>\n",
       "      <th>735</th>\n",
       "      <td>2021-04-10</td>\n",
       "    </tr>\n",
       "  </tbody>\n",
       "</table>\n",
       "</div>"
      ],
      "text/plain": [
       "            ds\n",
       "731 2021-04-06\n",
       "732 2021-04-07\n",
       "733 2021-04-08\n",
       "734 2021-04-09\n",
       "735 2021-04-10"
      ]
     },
     "execution_count": 72,
     "metadata": {},
     "output_type": "execute_result"
    }
   ],
   "source": [
    "future1 = m.make_future_dataframe(periods = 78) #periods same as test row size\n",
    "future1.tail()"
   ]
  },
  {
   "cell_type": "code",
   "execution_count": 75,
   "metadata": {},
   "outputs": [
    {
     "data": {
      "text/html": [
       "<div>\n",
       "<style scoped>\n",
       "    .dataframe tbody tr th:only-of-type {\n",
       "        vertical-align: middle;\n",
       "    }\n",
       "\n",
       "    .dataframe tbody tr th {\n",
       "        vertical-align: top;\n",
       "    }\n",
       "\n",
       "    .dataframe thead th {\n",
       "        text-align: right;\n",
       "    }\n",
       "</style>\n",
       "<table border=\"1\" class=\"dataframe\">\n",
       "  <thead>\n",
       "    <tr style=\"text-align: right;\">\n",
       "      <th></th>\n",
       "      <th>ds</th>\n",
       "      <th>yhat</th>\n",
       "      <th>yhat_lower</th>\n",
       "      <th>yhat_upper</th>\n",
       "    </tr>\n",
       "  </thead>\n",
       "  <tbody>\n",
       "    <tr>\n",
       "      <th>731</th>\n",
       "      <td>2021-04-06</td>\n",
       "      <td>265.890948</td>\n",
       "      <td>225.407612</td>\n",
       "      <td>307.707559</td>\n",
       "    </tr>\n",
       "    <tr>\n",
       "      <th>732</th>\n",
       "      <td>2021-04-07</td>\n",
       "      <td>266.432953</td>\n",
       "      <td>225.770660</td>\n",
       "      <td>308.438415</td>\n",
       "    </tr>\n",
       "    <tr>\n",
       "      <th>733</th>\n",
       "      <td>2021-04-08</td>\n",
       "      <td>268.027544</td>\n",
       "      <td>224.911493</td>\n",
       "      <td>310.285426</td>\n",
       "    </tr>\n",
       "    <tr>\n",
       "      <th>734</th>\n",
       "      <td>2021-04-09</td>\n",
       "      <td>268.145169</td>\n",
       "      <td>224.915261</td>\n",
       "      <td>310.602202</td>\n",
       "    </tr>\n",
       "    <tr>\n",
       "      <th>735</th>\n",
       "      <td>2021-04-10</td>\n",
       "      <td>260.132728</td>\n",
       "      <td>218.024468</td>\n",
       "      <td>302.120767</td>\n",
       "    </tr>\n",
       "  </tbody>\n",
       "</table>\n",
       "</div>"
      ],
      "text/plain": [
       "            ds        yhat  yhat_lower  yhat_upper\n",
       "731 2021-04-06  265.890948  225.407612  307.707559\n",
       "732 2021-04-07  266.432953  225.770660  308.438415\n",
       "733 2021-04-08  268.027544  224.911493  310.285426\n",
       "734 2021-04-09  268.145169  224.915261  310.602202\n",
       "735 2021-04-10  260.132728  218.024468  302.120767"
      ]
     },
     "execution_count": 75,
     "metadata": {},
     "output_type": "execute_result"
    }
   ],
   "source": [
    "forecast = m.predict(future1)\n",
    "forecast[['ds','yhat','yhat_lower','yhat_upper']].tail()"
   ]
  },
  {
   "cell_type": "code",
   "execution_count": 76,
   "metadata": {},
   "outputs": [
    {
     "data": {
      "text/plain": [
       "<matplotlib.axes._subplots.AxesSubplot at 0x25d7bd6ef08>"
      ]
     },
     "execution_count": 76,
     "metadata": {},
     "output_type": "execute_result"
    },
    {
     "data": {
      "image/png": "[encoded data removed]",
      "text/plain": [
       "<Figure size 432x288 with 1 Axes>"
      ]
     },
     "metadata": {
      "needs_background": "light"
     },
     "output_type": "display_data"
    }
   ],
   "source": [
    "pd.concat([df2.set_index('ds')['y'], forecast.set_index('ds')['yhat']], axis=1).plot()"
   ]
  },
  {
   "cell_type": "code",
   "execution_count": 77,
   "metadata": {},
   "outputs": [
    {
     "name": "stderr",
     "output_type": "stream",
     "text": [
      "C:\\Users\\Shubham\\Anaconda3\\lib\\site-packages\\seaborn\\_decorators.py:43: FutureWarning: Pass the following variables as keyword args: x, y. From version 0.12, the only valid positional argument will be `data`, and passing other arguments without an explicit keyword will result in an error or misinterpretation.\n",
      "  FutureWarning\n",
      "C:\\Users\\Shubham\\Anaconda3\\lib\\site-packages\\seaborn\\_decorators.py:43: FutureWarning: Pass the following variables as keyword args: x, y. From version 0.12, the only valid positional argument will be `data`, and passing other arguments without an explicit keyword will result in an error or misinterpretation.\n",
      "  FutureWarning\n"
     ]
    },
    {
     "data": {
      "text/plain": [
       "<matplotlib.axes._subplots.AxesSubplot at 0x25d78516988>"
      ]
     },
     "execution_count": 77,
     "metadata": {},
     "output_type": "execute_result"
    },
    {
     "data": {
      "image/png": "[encoded data removed]",
      "text/plain": [
       "<Figure size 432x288 with 1 Axes>"
      ]
     },
     "metadata": {
      "needs_background": "light"
     },
     "output_type": "display_data"
    }
   ],
   "source": [
    "sns.lineplot(original['Date'], original['Open'])\n",
    "sns.lineplot(df_forecast['Date'], df_forecast['Open'])"
   ]
  },
  {
   "cell_type": "code",
   "execution_count": null,
   "metadata": {},
   "outputs": [],
   "source": []
  }
 ],
 "metadata": {
  "kernelspec": {
   "display_name": "Python 3",
   "language": "python",
   "name": "python3"
  },
  "language_info": {
   "codemirror_mode": {
    "name": "ipython",
    "version": 3
   },
   "file_extension": ".py",
   "mimetype": "text/x-python",
   "name": "python",
   "nbconvert_exporter": "python",
   "pygments_lexer": "ipython3",
   "version": "3.7.4"
  }
 },
 "nbformat": 4,
 "nbformat_minor": 2
}
